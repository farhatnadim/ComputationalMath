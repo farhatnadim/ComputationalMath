{
 "cells": [
  {
   "cell_type": "markdown",
   "metadata": {},
   "source": [
    "# Summary \n",
    "I think the idea of this chapter section is to introduce the concept of basis of a vector space. Conceptually, basis is  set of vector that represents that can be used to generate the whole space. the number of basis vectors is just right to generate the whole space, a little more is redundant and a little less is not enough.\n",
    "this is a very important concept in linear algebra and is used in many engineering and scientific applications.\n",
    "#### TODO: add more details and examples"
   ]
  },
  {
   "cell_type": "markdown",
   "metadata": {},
   "source": [
    "# Problem Set 3.4 \n",
    "\n",
    "## Questions 1-10 are about Linear Independence and Linear Dependence"
   ]
  },
  {
   "cell_type": "markdown",
   "metadata": {},
   "source": [
    "### 1. Show that $\\vec{v_1}, \\vec{v_2}, \\vec{v_3}$ are independent but $\\vec{v_1}, \\vec{v_2}, \\vec{v_3}, \\vec{v_4}$ are dependent\n"
   ]
  },
  {
   "cell_type": "code",
   "execution_count": 15,
   "metadata": {},
   "outputs": [
    {
     "data": {
      "text/latex": [
       "$\\displaystyle \\left( \\left[\\begin{matrix}1 & 0 & 0\\\\0 & 1 & 0\\\\0 & 0 & 1\\end{matrix}\\right], \\  \\left( 0, \\  1, \\  2\\right)\\right)$"
      ],
      "text/plain": [
       "⎛⎡1  0  0⎤           ⎞\n",
       "⎜⎢       ⎥           ⎟\n",
       "⎜⎢0  1  0⎥, (0, 1, 2)⎟\n",
       "⎜⎢       ⎥           ⎟\n",
       "⎝⎣0  0  1⎦           ⎠"
      ]
     },
     "execution_count": 15,
     "metadata": {},
     "output_type": "execute_result"
    }
   ],
   "source": [
    "from sympy import *\n",
    "\n",
    "## GIVEN \n",
    "v1 = Matrix([1, 0 , 0]);\n",
    "v2 = Matrix([1, 1, 0]); \n",
    "v3 = Matrix([1,1,1]); \n",
    "v4=Matrix([2,3,4]) \n",
    "init_printing(use_unicode=True)\n",
    "\n",
    "\n",
    "\n",
    "# concactinating the arrays into a matrix and then finding the nullspace\n",
    "A = v1.row_join(v2).row_join(v3)\n",
    "A.nullspace()\n",
    "\n",
    "\n",
    "# Solution \n",
    "\n",
    "A.nullspace() \n",
    "# the nullspace is the zero vector so the matrix is invertible therefore \n",
    "# columns are linearly independent  \n",
    "\n",
    "# another mehtod we can do reduced row echelon\n",
    "\n",
    "A.rref() \n",
    "# answer is show below an invertible matrix , invertible matrices have by definition a nullspace with the only solution is the zero vector"
   ]
  },
  {
   "cell_type": "code",
   "execution_count": 16,
   "metadata": {},
   "outputs": [
    {
     "data": {
      "text/latex": [
       "$\\displaystyle \\left( \\left[\\begin{matrix}1 & 0 & 0 & -1\\\\0 & 1 & 0 & -1\\\\0 & 0 & 1 & 4\\end{matrix}\\right], \\  \\left( 0, \\  1, \\  2\\right)\\right)$"
      ],
      "text/plain": [
       "⎛⎡1  0  0  -1⎤           ⎞\n",
       "⎜⎢           ⎥           ⎟\n",
       "⎜⎢0  1  0  -1⎥, (0, 1, 2)⎟\n",
       "⎜⎢           ⎥           ⎟\n",
       "⎝⎣0  0  1  4 ⎦           ⎠"
      ]
     },
     "execution_count": 16,
     "metadata": {},
     "output_type": "execute_result"
    }
   ],
   "source": [
    "# now we add the fourth vector and we show that the matrix has non pivot columns which means the columns are linearly dependent\n",
    "A.row_join(v4).rref()\n"
   ]
  },
  {
   "cell_type": "code",
   "execution_count": 17,
   "metadata": {},
   "outputs": [
    {
     "data": {
      "text/latex": [
       "$\\displaystyle \\left[ \\left[\\begin{matrix}1\\\\1\\\\-4\\\\1\\end{matrix}\\right]\\right]$"
      ],
      "text/plain": [
       "⎡⎡1 ⎤⎤\n",
       "⎢⎢  ⎥⎥\n",
       "⎢⎢1 ⎥⎥\n",
       "⎢⎢  ⎥⎥\n",
       "⎢⎢-4⎥⎥\n",
       "⎢⎢  ⎥⎥\n",
       "⎣⎣1 ⎦⎦"
      ]
     },
     "execution_count": 17,
     "metadata": {},
     "output_type": "execute_result"
    }
   ],
   "source": [
    "# and if we take the nullspace it will give us a solution which is not the zero vector\n",
    "(A.row_join(v4)).nullspace()"
   ]
  },
  {
   "cell_type": "markdown",
   "metadata": {},
   "source": [
    "### 2. Find the largest number of vectors that can be independent in $\\mathbb{R}^4$\n",
    "#### with vectors $\\vec{v_1} = \\begin{bmatrix} 1 \\\\ -1 \\\\ 0 \\\\ 0 \\end{bmatrix}$, $\\vec{v_2} = \\begin{bmatrix} 1 \\\\ 0 \\\\ -1 \\\\ 0 \\end{bmatrix}$, $\\vec{v_3} = \\begin{bmatrix} 1 \\\\ 0 \\\\ 0 \\\\ -1 \\end{bmatrix}$, $\\vec{v_4} = \\begin{bmatrix} 0 \\\\ 1 \\\\ -1 \\\\ 0 \\end{bmatrix}$, $\\vec{v_5} = \\begin{bmatrix} 0 \\\\ 1 \\\\ 0 \\\\ -1 \\end{bmatrix}$, $\\vec{v_6} = \\begin{bmatrix} 0 \\\\ 0 \\\\ 1 \\\\ -1 \\end{bmatrix}$\n",
    "\n"
   ]
  },
  {
   "cell_type": "markdown",
   "metadata": {},
   "source": []
  },
  {
   "cell_type": "code",
   "execution_count": 18,
   "metadata": {},
   "outputs": [
    {
     "data": {
      "image/png": "[encoded data removed]",
      "text/latex": [
       "$\\displaystyle 3$"
      ],
      "text/plain": [
       "3"
      ]
     },
     "execution_count": 18,
     "metadata": {},
     "output_type": "execute_result"
    }
   ],
   "source": [
    "# we stack the vectors in a matrix and we find the reduced row echelon form(rref) and the pivot columns\n",
    "\n",
    "v1 = Matrix([1, -1, 0, 0])\n",
    "v2 = Matrix([1, 0, -1, 0])\n",
    "v3 = Matrix([1, 0, 0, -1])\n",
    "v4 = Matrix([0, 1, -1, 0])\n",
    "v5 = Matrix([0, 1, 0, -1])\n",
    "v6 = Matrix([0, 0, 1, -1])\n",
    "\n",
    "rref, pivot_column = A.hstack(v1, v2, v3, v4, v5, v6).rref()\n",
    "\n",
    "len(pivot_column)\n",
    "# we can see that the matrix has 3 pivot columns the 3 pivot columns are the largest number independent columns"
   ]
  },
  {
   "cell_type": "markdown",
   "metadata": {},
   "source": [
    "#### Solution \n",
    "We use sympy as above to find the pivot of the columns of the matrix $A$ formed by the vectors $\\vec{v_1}, \\vec{v_2}, \\vec{v_3}, \\vec{v_4}, \\vec{v_5}, \\vec{v_6}$ and we take the number of pivot columns as the number of independent vectors. Which is 3"
   ]
  },
  {
   "cell_type": "markdown",
   "metadata": {},
   "source": [
    "### 3. Prove that if $ a = 0 $ or $ d = 0 $ or $ f = 0 $ , the columns of the matrix $U$ are linearly dependent\n",
    "\n",
    "$ U = \\begin{bmatrix} a & b & c \\\\ 0 & d & e \\\\ 0 & 0 & f \\end{bmatrix} $\n",
    "\n",
    "#### Solution\n",
    "\n",
    "* if $ a = 0 $, then the first column is a zero vector and the columns are linearly dependent, the matrix would be $ U = \\begin{bmatrix} 0 & b & c \\\\ 0 & d & e \\\\ 0 & 0 & f \\end{bmatrix} $ and the second and third columns can be written as a linear combination of the first column by using second - third with f = 0\n",
    "* if $ d = 0 $, then the matrix U would be $ U = \\begin{bmatrix} a & b & c \\\\ 0 & 0 & e \\\\ 0 & 0 & f \\end{bmatrix} $ and  then we only have 2 pivots in 3 x 3 matrix  r = 2 and r < n , thus we can have infinite solutions and the columns are linearly dependent\n",
    "* if $ f = 0 $, then the matrix U would be $ U = \\begin{bmatrix} a & b & c \\\\ 0 & d & e \\\\ 0 & 0 & 0 \\end{bmatrix} $ and  then we only have 2 pivots in 3 x 3 matrix thus the columns are linearly dependent\n",
    "\n",
    "See below solution using sympy\n"
   ]
  },
  {
   "cell_type": "code",
   "execution_count": 19,
   "metadata": {},
   "outputs": [
    {
     "data": {
      "text/latex": [
       "$\\displaystyle \\left[\\begin{matrix}a & b & c\\\\0 & d & e\\\\0 & 0 & f\\end{matrix}\\right]$"
      ],
      "text/plain": [
       "⎡a  b  c⎤\n",
       "⎢       ⎥\n",
       "⎢0  d  e⎥\n",
       "⎢       ⎥\n",
       "⎣0  0  f⎦"
      ]
     },
     "execution_count": 19,
     "metadata": {},
     "output_type": "execute_result"
    }
   ],
   "source": [
    "a = symbols('a')\n",
    "b = symbols('b')\n",
    "c = symbols('c')\n",
    "d = symbols('d')\n",
    "e = symbols('e')\n",
    "f = symbols('f')\n",
    "\n",
    "U = Matrix([[a, b, c], [0, d, e], [0, 0, f]])\n",
    "U"
   ]
  },
  {
   "cell_type": "code",
   "execution_count": 20,
   "metadata": {},
   "outputs": [
    {
     "data": {
      "text/latex": [
       "$\\displaystyle \\left[ \\left[\\begin{matrix}1\\\\0\\\\0\\end{matrix}\\right]\\right]$"
      ],
      "text/plain": [
       "⎡⎡1⎤⎤\n",
       "⎢⎢ ⎥⎥\n",
       "⎢⎢0⎥⎥\n",
       "⎢⎢ ⎥⎥\n",
       "⎣⎣0⎦⎦"
      ]
     },
     "execution_count": 20,
     "metadata": {},
     "output_type": "execute_result"
    }
   ],
   "source": [
    "U = Matrix([[0, b, c], [0, d, e], [0, 0, f]])\n",
    "U.nullspace()\n",
    "# the nullspace is not the zero vector so the columns are linearly dependent"
   ]
  },
  {
   "cell_type": "code",
   "execution_count": 21,
   "metadata": {},
   "outputs": [
    {
     "data": {
      "text/latex": [
       "$\\displaystyle \\left[ \\left[\\begin{matrix}- \\frac{b}{a}\\\\1\\\\0\\end{matrix}\\right]\\right]$"
      ],
      "text/plain": [
       "⎡⎡-b ⎤⎤\n",
       "⎢⎢───⎥⎥\n",
       "⎢⎢ a ⎥⎥\n",
       "⎢⎢   ⎥⎥\n",
       "⎢⎢ 1 ⎥⎥\n",
       "⎢⎢   ⎥⎥\n",
       "⎣⎣ 0 ⎦⎦"
      ]
     },
     "execution_count": 21,
     "metadata": {},
     "output_type": "execute_result"
    }
   ],
   "source": [
    "U = Matrix([[a, b, c], [0, 0, e], [0, 0, f]])\n",
    "U.nullspace()\n",
    "# the nullspace is the zero vector so the columns are linearly independent"
   ]
  },
  {
   "cell_type": "code",
   "execution_count": 22,
   "metadata": {},
   "outputs": [
    {
     "data": {
      "text/latex": [
       "$\\displaystyle \\left[ \\left[\\begin{matrix}\\frac{b e}{a d} - \\frac{c}{a}\\\\- \\frac{e}{d}\\\\1\\end{matrix}\\right]\\right]$"
      ],
      "text/plain": [
       "⎡⎡b⋅e   c⎤⎤\n",
       "⎢⎢─── - ─⎥⎥\n",
       "⎢⎢a⋅d   a⎥⎥\n",
       "⎢⎢       ⎥⎥\n",
       "⎢⎢  -e   ⎥⎥\n",
       "⎢⎢  ───  ⎥⎥\n",
       "⎢⎢   d   ⎥⎥\n",
       "⎢⎢       ⎥⎥\n",
       "⎣⎣   1   ⎦⎦"
      ]
     },
     "execution_count": 22,
     "metadata": {},
     "output_type": "execute_result"
    }
   ],
   "source": [
    "U = Matrix([[a, b, c], [0, d, e], [0, 0, 0]])\n",
    "U.nullspace()\n",
    "# the nullspace is the zero vector so the columns are linearly independent"
   ]
  },
  {
   "cell_type": "markdown",
   "metadata": {},
   "source": [
    "### 4. if $a$ , $d$, and $f$ in Q3 are not zero, show that the only solution to $Ux = 0$ is $x = 0$\n",
    "the matrix is full rank and the only solution is the zero vector\n"
   ]
  },
  {
   "cell_type": "code",
   "execution_count": 23,
   "metadata": {},
   "outputs": [
    {
     "data": {
      "image/png": "[encoded data removed]",
      "text/latex": [
       "$\\displaystyle \\left[ \\right]$"
      ],
      "text/plain": [
       "[]"
      ]
     },
     "execution_count": 23,
     "metadata": {},
     "output_type": "execute_result"
    }
   ],
   "source": [
    "U = Matrix([[a, b, c], [0, d, e], [0, 0, f]])\n",
    "s = U.nullspace()\n",
    "s\n",
    "# nullspace is the zero vector so the columns are linearly independent"
   ]
  },
  {
   "cell_type": "markdown",
   "metadata": {},
   "source": [
    "### 5. Decide the depedence or independence of \n",
    "#### a)\n",
    "vectors $\\vec{v_1} = \\begin{bmatrix} 1 \\\\ 3 \\\\ 2 \\end{bmatrix}$, $\\vec{v_2} = \\begin{bmatrix} 2 \\\\ 1 \\\\ 3 \\end{bmatrix}$,  $\\vec{v_3} = \\begin{bmatrix} 3 \\\\ 2 \\\\ 1 \\end{bmatrix}$\n",
    "#### Solution\n",
    "We can use sympy to find the pivot of the columns of the matrix $A$ formed by the vectors $\\vec{v_1}, \\vec{v_2}, \\vec{v_3}$"
   ]
  },
  {
   "cell_type": "code",
   "execution_count": 24,
   "metadata": {},
   "outputs": [
    {
     "data": {
      "image/png": "[encoded data removed]",
      "text/latex": [
       "$\\displaystyle \\left[ \\right]$"
      ],
      "text/plain": [
       "[]"
      ]
     },
     "execution_count": 24,
     "metadata": {},
     "output_type": "execute_result"
    }
   ],
   "source": [
    "A = Matrix([[1, 3, 2], [2, 1, 3], [3, 2, 1]])\n",
    "A.nullspace()\n",
    "# nullspace is the zero vector so the columns are linearly independent\n"
   ]
  },
  {
   "cell_type": "markdown",
   "metadata": {},
   "source": [
    "### 5. Decide the depedence or independence of \n",
    "#### b)\n",
    "vectors $\\vec{v_1} = \\begin{bmatrix} 1 \\\\ -3 \\\\ 2 \\end{bmatrix}$, $\\vec{v_2} = \\begin{bmatrix} 2 \\\\ 1 \\\\ -3 \\end{bmatrix}$,  $\\vec{v_3} = \\begin{bmatrix} -3 \\\\ 2 \\\\ 1 \\end{bmatrix}$\n",
    "#### Solution\n",
    "We can use sympy to find the pivot of the columns of the matrix $A$ formed by the vectors $\\vec{v_1}, \\vec{v_2}, \\vec{v_3}$"
   ]
  },
  {
   "cell_type": "code",
   "execution_count": 25,
   "metadata": {},
   "outputs": [
    {
     "data": {
      "text/latex": [
       "$\\displaystyle \\left[ \\left[\\begin{matrix}1\\\\1\\\\1\\end{matrix}\\right]\\right]$"
      ],
      "text/plain": [
       "⎡⎡1⎤⎤\n",
       "⎢⎢ ⎥⎥\n",
       "⎢⎢1⎥⎥\n",
       "⎢⎢ ⎥⎥\n",
       "⎣⎣1⎦⎦"
      ]
     },
     "execution_count": 25,
     "metadata": {},
     "output_type": "execute_result"
    }
   ],
   "source": [
    "A = Matrix([[1, -3, 2], [2, 1, -3], [-3, 2, 1]])\n",
    "A.nullspace()"
   ]
  },
  {
   "cell_type": "markdown",
   "metadata": {},
   "source": [
    "### 6. Choose three independent columns of $U$ . then make two other choice, do the same for A \n",
    "\n",
    "$U = \\begin{bmatrix} 2 & 3 & 4 & 1 \\\\ 0 & 6 & 7 & 0 \\\\ 0 & 0 & 0 & 9 \\\\ 0 &0 & 0 & 0 \\end{bmatrix}$\n",
    "$A = \\begin{bmatrix} 2 & 3 & 4 & 1 \\\\ 0 & 6 & 7 & 0 \\\\ 0 & 0 & 0 & 9 \\\\ 4 &6 & 8 & 2 \\end{bmatrix}$"
   ]
  },
  {
   "cell_type": "code",
   "execution_count": 26,
   "metadata": {},
   "outputs": [
    {
     "name": "stdout",
     "output_type": "stream",
     "text": [
      "[]\n",
      "[]\n",
      "[]\n",
      "[]\n",
      "[]\n",
      "[]\n"
     ]
    }
   ],
   "source": [
    "# let us pick first second and 4th column\n",
    "\n",
    "U = Matrix([[2, 3, 4,1], [0, 6, 7,0], [0, 0, 0,9],[0,0,0,0]])\n",
    "Q = U[:,[0,1,3]]\n",
    "print(Q.nullspace()) # nullspace is zero , independent columns\n",
    "\n",
    "# let us pick first third and 4th column\n",
    "R = U[:,[0,2,3]] \n",
    "R.nullspace() # nullspace is zero , independent columns\n",
    "print(R.nullspace())\n",
    "\n",
    "# let us pick second third and 4th column\n",
    "S = U[:,[1,2,3]]\n",
    "print(S.nullspace()) # nullspace is zero , independent columns\n",
    "\n",
    "# let us try the same thing for A\n",
    "\n",
    "# let us pick first second and 4th column\n",
    "\n",
    "A = Matrix([[2, 3, 4,1], [0, 6, 7,0], [0, 0, 0,9],[4,6,8,2]])\n",
    "Q = A[:,[0,1,3]]\n",
    "print(Q.nullspace()) # nullspace is zero , independent columns\n",
    "\n",
    "# let us pick first third and 4th column\n",
    "R = A[:,[0,2,3]] \n",
    "R.nullspace() # nullspace is zero , independent columns\n",
    "print(R.nullspace())\n",
    "\n",
    "# let us pick second third and 4th column\n",
    "S = A[:,[1,2,3]]\n",
    "print(S.nullspace()) # nullspace is zero , independent columns\n"
   ]
  },
  {
   "cell_type": "markdown",
   "metadata": {},
   "source": [
    "### 7. a) f $\\vec{w_1}, \\vec{w_2}, \\vec{w_3}$ are independent, show that the difference $ \\vec{v_1} = \\vec{w_2} - \\vec{w_3}, \\vec{v_2} = \\vec{w_1} - \\vec{w_3}, \\vec{v_3} = \\vec{w_1} - \\vec{w_2}$ are  dependent"
   ]
  },
  {
   "cell_type": "code",
   "execution_count": 27,
   "metadata": {},
   "outputs": [
    {
     "data": {
      "text/latex": [
       "$\\displaystyle \\left[ \\left[\\begin{matrix}1\\\\1\\\\1\\end{matrix}\\right]\\right]$"
      ],
      "text/plain": [
       "⎡⎡1⎤⎤\n",
       "⎢⎢ ⎥⎥\n",
       "⎢⎢1⎥⎥\n",
       "⎢⎢ ⎥⎥\n",
       "⎣⎣1⎦⎦"
      ]
     },
     "execution_count": 27,
     "metadata": {},
     "output_type": "execute_result"
    }
   ],
   "source": [
    "# set up the matrix with v1, v2, v3 as the solutions, w1,2,3 as the unknowns and the matrix as the coefficients\n",
    "\n",
    "A = Matrix([[0, 1, -1], [1, 0, -1], [1, -1, 0]])\n",
    "\n",
    "A.nullspace() # nullspace is not zero so the columns are linearly dependent\n",
    "\n",
    "# also the solution of the nullspace gives zero\n"
   ]
  },
  {
   "cell_type": "code",
   "execution_count": null,
   "metadata": {},
   "outputs": [],
   "source": []
  },
  {
   "cell_type": "markdown",
   "metadata": {},
   "source": [
    "#### b) find d a combinat of the v's that gives zero \n",
    "\n",
    "#### Solution \n",
    "the solution of the nullspace gives zero $ 1*\\vec{v_1} + 1*\\vec{v_2} + 1*\\vec{v_3} = 0$  \n",
    "$ 1*(\\vec{w_2} -\\vec{w_3} ) + (\\vec{w_1} -\\vec{w_3}) + (\\vec{w_1} - \\vec{w_2}) => \\vec{w_1} = \\vec{w_3}$ "
   ]
  },
  {
   "cell_type": "markdown",
   "metadata": {},
   "source": [
    "#### C) which matrix A in is singular\n",
    "#### Solution \n",
    "we found A above to be singular $A = \\begin{bmatrix} 0 & 1 & -1 \\\\ 1 & 0 & -1 \\\\ 1 & -1 & 0 \\end{bmatrix}$ because the nullspace is not empty and has the vector $[1, 1, 1]$"
   ]
  },
  {
   "cell_type": "markdown",
   "metadata": {},
   "source": [
    "### 8. a) f $\\vec{w_1}, \\vec{w_2}, \\vec{w_3}$ are independent, show that the sum $ \\vec{v_1} = \\vec{w_2} + \\vec{w_3}, \\vec{v_2} = \\vec{w_1} + \\vec{w_3}, \\vec{v_3} = \\vec{w_1} + \\vec{w_2}$ are  independent"
   ]
  },
  {
   "cell_type": "markdown",
   "metadata": {},
   "source": []
  },
  {
   "cell_type": "code",
   "execution_count": 28,
   "metadata": {},
   "outputs": [
    {
     "data": {
      "image/png": "[encoded data removed]",
      "text/latex": [
       "$\\displaystyle \\left[ \\right]$"
      ],
      "text/plain": [
       "[]"
      ]
     },
     "execution_count": 28,
     "metadata": {},
     "output_type": "execute_result"
    }
   ],
   "source": [
    "# set up the matrix with v1, v2, v3 as the solutions, w1,2,3 as the unknowns and the matrix as the coefficients\n",
    "\n",
    "A = Matrix([[0, 1, 1], [1, 0, 1], [1, 1, 0]])\n",
    "\n",
    "A.nullspace() # nullspace is not zero so the columns are linearly dependent\n",
    "\n",
    "# also the solution of the nullspace gives zero\n"
   ]
  },
  {
   "cell_type": "markdown",
   "metadata": {},
   "source": [
    "#### Solution\n",
    "A is invertible and the nullspace is empty"
   ]
  },
  {
   "cell_type": "markdown",
   "metadata": {},
   "source": [
    "### 9. Suppose $ \\vec{v_1}, \\vec{v_2}, \\vec{v_3}, \\vec{v_4}$  are vectors in $R^3$\n"
   ]
  },
  {
   "cell_type": "markdown",
   "metadata": {},
   "source": [
    "#### a) The four vectors in $R^3$ are the columns of 3 by 4 matrix A. r < n  then we will have a non pivot columns and infinite solutions in the nullspace \n",
    "#### b) The two vectors $\\vec{v_1}, \\vec{v_2}$ will be dependent if the matrix $A = \\begin{bmatrix} \\vec{v_1} & \\vec{v_2} \\end{bmatrix}$ has rank 1 or 0\n",
    "#### c) a nontrivial combination of $\\vec{v_1}, \\vec{0}$ gives $\\vec{0}$ if $\\vec{v_1}$ , $0\\vec{v_1} + 3 \\vec{0} = \\vec{0}$, then $\\vec{v_1}$ and $\\vec{0}$ are dependent"
   ]
  },
  {
   "cell_type": "markdown",
   "metadata": {},
   "source": []
  },
  {
   "cell_type": "markdown",
   "metadata": {},
   "source": [
    "### 10.\n",
    "#### a) Find two independent vectors in the plane $x + 2y - 3z + t = 0 $ in $R^4$\n",
    "#### Solution\n",
    "two independent  vectors in R^4 such as $\\vec{v_1} = [2,-1,0,0] $ and $\\vec{v_2} = [0,0,1,3] $ which are independent"
   ]
  },
  {
   "cell_type": "markdown",
   "metadata": {},
   "source": [
    "#### b) find three independent vectors in the plane $x + 2y - 3z - t = 0 $ in $R^4$\n",
    "#### Solution\n",
    "Three indepenvectors in R^4 such as $\\vec{v_1} = [2,-1,0,0] $, $\\vec{v_2} = [0,0,1,3] $ and $\\vec{v_3} = [1,0,0,1] $ which are independent\n"
   ]
  },
  {
   "cell_type": "markdown",
   "metadata": {},
   "source": [
    "### C) Why not four independent vectors in the plane $x + 2y - 3z - t = 0 $ in $R^4$\n",
    "I think because from the three independent vectors above we can see there is are special solutions meaning that the fourth vector can be written as a linear combination of the other three vectors. thus the fourth vector is redundant and not independent"
   ]
  }
 ],
 "metadata": {
  "kernelspec": {
   "display_name": "base",
   "language": "python",
   "name": "python3"
  },
  "language_info": {
   "codemirror_mode": {
    "name": "ipython",
    "version": 3
   },
   "file_extension": ".py",
   "mimetype": "text/x-python",
   "name": "python",
   "nbconvert_exporter": "python",
   "pygments_lexer": "ipython3",
   "version": "3.12.4"
  }
 },
 "nbformat": 4,
 "nbformat_minor": 2
}
