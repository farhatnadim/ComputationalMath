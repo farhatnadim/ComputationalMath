{
 "cells": [
  {
   "cell_type": "code",
   "execution_count": null,
   "id": "c3108efc",
   "metadata": {},
   "outputs": [],
   "source": [
    "import sympy as sp\n",
    "\n",
    "def P ( A : sp.Matrix) -> sp.Matrix:\n",
    "\n",
    "    return (A.transpose * A ).inv() * A.transpose \n",
    "\n",
    "def x_hat(b : sp.Matrix, A : sp.Matrix) -> sp.Matrix:\n",
    "\n",
    "    return P(A) * b\n",
    "\n",
    "def p ( b:sp.Matrix, A : sp.Matrix):\n",
    "    return A*x_hat(b,A)\n",
    "\n"
   ]
  },
  {
   "cell_type": "code",
   "execution_count": null,
   "id": "1069da97",
   "metadata": {},
   "outputs": [],
   "source": [
    "# Number 1 \n",
    "b = sp.Matrix([[1],[2],[2]])\n",
    "a = sp.Matrix([[1],[1],[1]])\n",
    "\n"
   ]
  }
 ],
 "metadata": {
  "kernelspec": {
   "display_name": ".venv",
   "language": "python",
   "name": "python3"
  },
  "language_info": {
   "name": "python",
   "version": "3.12.7"
  }
 },
 "nbformat": 4,
 "nbformat_minor": 5
}
