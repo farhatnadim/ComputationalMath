{
 "cells": [
  {
   "cell_type": "code",
   "execution_count": 8,
   "id": "c3108efc",
   "metadata": {},
   "outputs": [],
   "source": [
    "import sympy as sp\n",
    "import matplotlib.pyplot as plt\n",
    "import numpy as np\n",
    "## the functions below are used in numbers 1-9\n",
    "\n",
    "def P ( A : sp.Matrix) -> sp.Matrix:\n",
    "    '''Projection Matrix'''\n",
    "    return A*(A.transpose() * A ).inv() * A.transpose()\n",
    "\n",
    "def x_hat(b : sp.Matrix, A : sp.Matrix) -> sp.Matrix:\n",
    "    '''x_hat as in p = a*x_hat where p and a are vectors'''\n",
    "    return P(A) * b\n",
    "\n",
    "def p ( b:sp.Matrix, A : sp.Matrix):\n",
    "    '''projections along the vector a'''\n",
    "    return A*x_hat(b,A)\n",
    "\n"
   ]
  },
  {
   "cell_type": "code",
   "execution_count": null,
   "id": "9d658068",
   "metadata": {},
   "outputs": [
    {
     "ename": "TypeError",
     "evalue": "FigureBase.subplots() got an unexpected keyword argument 'projection'",
     "output_type": "error",
     "traceback": [
      "\u001b[31m---------------------------------------------------------------------------\u001b[39m",
      "\u001b[31mTypeError\u001b[39m                                 Traceback (most recent call last)",
      "\u001b[36mCell\u001b[39m\u001b[36m \u001b[39m\u001b[32mIn[10]\u001b[39m\u001b[32m, line 3\u001b[39m\n\u001b[32m      1\u001b[39m \u001b[38;5;66;03m#3 a) get the projection matrices from a in number 1 \u001b[39;00m\n\u001b[32m      2\u001b[39m fig = plt.figure(figsize=(\u001b[32m10\u001b[39m,\u001b[32m10\u001b[39m))\n\u001b[32m----> \u001b[39m\u001b[32m3\u001b[39m ax = \u001b[43mfig\u001b[49m\u001b[43m.\u001b[49m\u001b[43msubplots\u001b[49m\u001b[43m(\u001b[49m\u001b[32;43m111\u001b[39;49m\u001b[43m,\u001b[49m\u001b[43mprojection\u001b[49m\u001b[43m=\u001b[49m\u001b[33;43m'\u001b[39;49m\u001b[33;43m3d\u001b[39;49m\u001b[33;43m'\u001b[39;49m\u001b[43m)\u001b[49m\n\u001b[32m      4\u001b[39m a_a  = sp.Matrix([\u001b[32m1\u001b[39m,\u001b[32m1\u001b[39m,\u001b[32m1\u001b[39m])\n\u001b[32m      5\u001b[39m a_b = sp.Matrix([-\u001b[32m1\u001b[39m,-\u001b[32m3\u001b[39m,-\u001b[32m1\u001b[39m])\n",
      "\u001b[31mTypeError\u001b[39m: FigureBase.subplots() got an unexpected keyword argument 'projection'"
     ]
    },
    {
     "data": {
      "text/plain": [
       "<Figure size 1000x1000 with 0 Axes>"
      ]
     },
     "metadata": {},
     "output_type": "display_data"
    }
   ],
   "source": [
    "#3 a) get the projection matrices from a in number 1 \n",
    "fig = plt.figure(figsize=(10,10))\n",
    "ax = fig.add_subplot(111,projection='3d')\n",
    "a_a  = sp.Matrix([1,1,1])\n",
    "a_b = sp.Matrix([-1,-3,-1])\n",
    "            \n",
    "P_a = P(a_a)\n",
    "print(P_a)\n",
    "\n",
    "print(f\"is P = P^2 {P_a == P_a*P_a}\")\n",
    "\n",
    "P_b = P(a_b)\n",
    "print(P_b)\n",
    "\n",
    "print(f\"is P = P^2 {P_b == P_b*P_b}\")"
   ]
  },
  {
   "cell_type": "code",
   "execution_count": 9,
   "id": "e9e85ad5",
   "metadata": {},
   "outputs": [
    {
     "name": "stdout",
     "output_type": "stream",
     "text": [
      "Matrix([[cos(theta)], [0]])\n",
      "Matrix([[0], [0]])\n",
      "Matrix([[1, 0], [0, 0]])\n",
      "Matrix([[1/2, -1/2], [-1/2, 1/2]])\n",
      "False\n"
     ]
    }
   ],
   "source": [
    "# number 2 \n",
    "theta = sp.Symbol('theta')\n",
    "b_2_a = sp.Matrix([sp.cos(theta),sp.sin(theta)])\n",
    "a_2_a = sp.Matrix([1,0])\n",
    "\n",
    "sp.init_printing()\n",
    "x_hat_a = x_hat(b_2_a,a_2_a)\n",
    "print(x_hat_a)\n",
    "\n",
    "b_2_b = sp.Matrix([1,1])\n",
    "a_2_b = sp.Matrix([1,-1])\n",
    "x_hat_b = x_hat(b_2_b, a_2_b)\n",
    "print(x_hat_b)\n",
    "\n",
    "#Number 4 \n",
    "P1 = P(a_2_a)\n",
    "P2 = P(a_2_b)\n",
    "print(P1)\n",
    "print(P2)\n",
    "print((P1 + P2)**2 == P1 + P2)"
   ]
  }
 ],
 "metadata": {
  "kernelspec": {
   "display_name": ".venv",
   "language": "python",
   "name": "python3"
  },
  "language_info": {
   "codemirror_mode": {
    "name": "ipython",
    "version": 3
   },
   "file_extension": ".py",
   "mimetype": "text/x-python",
   "name": "python",
   "nbconvert_exporter": "python",
   "pygments_lexer": "ipython3",
   "version": "3.12.7"
  }
 },
 "nbformat": 4,
 "nbformat_minor": 5
}
