{
 "cells": [
  {
   "cell_type": "code",
   "execution_count": 9,
   "id": "b85334a0",
   "metadata": {},
   "outputs": [],
   "source": [
    "import sympy as sp\n",
    "\n",
    "# find the projection of b into the plan formed by a = [2,2,1] and a_star = [1,0,0]"
   ]
  },
  {
   "cell_type": "code",
   "execution_count": 12,
   "id": "5031009e",
   "metadata": {},
   "outputs": [
    {
     "name": "stdout",
     "output_type": "stream",
     "text": [
      "Matrix([[12/5], [-9/5]])\n",
      "Matrix([[3], [24/5], [12/5]])\n",
      "Matrix([[1, 0, 0], [0, 4/5, 2/5], [0, 2/5, 1/5]])\n"
     ]
    }
   ],
   "source": [
    "# the vectors a and a_* form the basis of the plan\n",
    "# thus the matrix A is formed from the column vector a and a_sar\n",
    "A = sp.Matrix([[2,1],[2,0],[1,0]])\n",
    "b = sp.Matrix([3,4,4])\n",
    "# the projection p = a_hat*A\n",
    "# a_hat = transpose(A)*b / inverse(transpose(A)*A)\n",
    "a_hat =  (A.transpose()*A).inv() *A.transpose() * b \n",
    "print(a_hat)\n",
    "p = A * a_hat\n",
    "print(p)\n",
    "P = A * (A.transpose()*A).inv()* A.transpose()\n",
    "\n",
    "print(P)"
   ]
  },
  {
   "cell_type": "code",
   "execution_count": null,
   "id": "22190c7a",
   "metadata": {},
   "outputs": [
    {
     "name": "stdout",
     "output_type": "stream",
     "text": [
      "Matrix([[0], [-4/5], [8/5]])\n",
      "[Matrix([\n",
      "[   0],\n",
      "[-1/2],\n",
      "[   1]])]\n"
     ]
    }
   ],
   "source": [
    "# prove that e = b -p is uniq\n",
    "e = b - p \n",
    "e = e.transpose()\n",
    "print(e)\n",
    "\n",
    "# left nullspace of A \n",
    "ep = (A.transpose().nullspace())\n",
    "\n",
    "cross_produce = sp.cross"
   ]
  }
 ],
 "metadata": {
  "kernelspec": {
   "display_name": ".venv",
   "language": "python",
   "name": "python3"
  },
  "language_info": {
   "codemirror_mode": {
    "name": "ipython",
    "version": 3
   },
   "file_extension": ".py",
   "mimetype": "text/x-python",
   "name": "python",
   "nbconvert_exporter": "python",
   "pygments_lexer": "ipython3",
   "version": "3.12.7"
  }
 },
 "nbformat": 4,
 "nbformat_minor": 5
}
