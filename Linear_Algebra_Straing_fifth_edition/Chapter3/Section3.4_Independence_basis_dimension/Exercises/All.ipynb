{
 "cells": [
  {
   "cell_type": "markdown",
   "metadata": {},
   "source": [
    "# Summary \n",
    "I think the idea of this chapter section is to introduce the concept of basis of a vector space. Conceptually, basis is  set of vector that represents that can be used to generate the whole space. the number of basis vectors is just right to generate the whole space, a little more is redundant and a little less is not enough.\n",
    "this is a very important concept in linear algebra and is used in many engineering and scientific applications.\n",
    "# TODO: add more details and examples"
   ]
  },
  {
   "cell_type": "markdown",
   "metadata": {},
   "source": [
    "# Problem Set 3.4 \n",
    "\n",
    "## Questions 1-10 are about Linear Independence and Linear Dependence"
   ]
  },
  {
   "cell_type": "markdown",
   "metadata": {},
   "source": [
    "### 1. Show that $\\vec{v_1}, \\vec{v_2}, \\vec{v_3}$ are independent but $\\vec{v_1}, \\vec{v_2}, \\vec{v_3}, \\vec{v_4}$ are dependent\n"
   ]
  },
  {
   "cell_type": "code",
   "execution_count": 1,
   "metadata": {},
   "outputs": [
    {
     "data": {
      "text/latex": [
       "$\\displaystyle \\left( \\left[\\begin{matrix}1 & 0 & 0\\\\0 & 1 & 0\\\\0 & 0 & 1\\end{matrix}\\right], \\  \\left( 0, \\  1, \\  2\\right)\\right)$"
      ],
      "text/plain": [
       "⎛⎡1  0  0⎤           ⎞\n",
       "⎜⎢       ⎥           ⎟\n",
       "⎜⎢0  1  0⎥, (0, 1, 2)⎟\n",
       "⎜⎢       ⎥           ⎟\n",
       "⎝⎣0  0  1⎦           ⎠"
      ]
     },
     "execution_count": 1,
     "metadata": {},
     "output_type": "execute_result"
    }
   ],
   "source": [
    "from sympy import *\n",
    "\n",
    "## GIVEN \n",
    "v1 = Matrix([1, 0 , 0]);\n",
    "v2 = Matrix([1, 1, 0]); \n",
    "v3 = Matrix([1,1,1]); \n",
    "v4=Matrix([2,3,4]) \n",
    "init_printing(use_unicode=True)\n",
    "\n",
    "\n",
    "\n",
    "# concactinating the arrays into a matrix and then finding the nullspace\n",
    "A = v1.row_join(v2).row_join(v3)\n",
    "A.nullspace()\n",
    "\n",
    "\n",
    "# Solution \n",
    "\n",
    "A.nullspace() \n",
    "# the nullspace is the zero vector so the matrix is invertible therefore \n",
    "# columns are linearly independent  \n",
    "\n",
    "# another mehtod we can do reduced row echelon\n",
    "\n",
    "A.rref() \n",
    "# answer is show below an invertible matrix , invertible matrices have by definition a nullspace with the only solution is the zero vector"
   ]
  },
  {
   "cell_type": "code",
   "execution_count": 2,
   "metadata": {},
   "outputs": [
    {
     "data": {
      "text/latex": [
       "$\\displaystyle \\left( \\left[\\begin{matrix}1 & 0 & 0 & -1\\\\0 & 1 & 0 & -1\\\\0 & 0 & 1 & 4\\end{matrix}\\right], \\  \\left( 0, \\  1, \\  2\\right)\\right)$"
      ],
      "text/plain": [
       "⎛⎡1  0  0  -1⎤           ⎞\n",
       "⎜⎢           ⎥           ⎟\n",
       "⎜⎢0  1  0  -1⎥, (0, 1, 2)⎟\n",
       "⎜⎢           ⎥           ⎟\n",
       "⎝⎣0  0  1  4 ⎦           ⎠"
      ]
     },
     "execution_count": 2,
     "metadata": {},
     "output_type": "execute_result"
    }
   ],
   "source": [
    "# now we add the fourth vector and we show that the matrix has non pivot columns which means the columns are linearly dependent\n",
    "A.row_join(v4).rref()\n"
   ]
  },
  {
   "cell_type": "code",
   "execution_count": 3,
   "metadata": {},
   "outputs": [
    {
     "data": {
      "text/latex": [
       "$\\displaystyle \\left[ \\left[\\begin{matrix}1\\\\1\\\\-4\\\\1\\end{matrix}\\right]\\right]$"
      ],
      "text/plain": [
       "⎡⎡1 ⎤⎤\n",
       "⎢⎢  ⎥⎥\n",
       "⎢⎢1 ⎥⎥\n",
       "⎢⎢  ⎥⎥\n",
       "⎢⎢-4⎥⎥\n",
       "⎢⎢  ⎥⎥\n",
       "⎣⎣1 ⎦⎦"
      ]
     },
     "execution_count": 3,
     "metadata": {},
     "output_type": "execute_result"
    }
   ],
   "source": [
    "# and if we take the nullspace it will give us a solution which is not the zero vector\n",
    "(A.row_join(v4)).nullspace()"
   ]
  },
  {
   "cell_type": "markdown",
   "metadata": {},
   "source": [
    "### 2. Find the largest number of vectors that can be independent in $\\mathbb{R}^4$\n",
    "#### with vectors $\\vec{v_1} = \\begin{bmatrix} 1 \\\\ -1 \\\\ 0 \\\\ 0 \\end{bmatrix}$, $\\vec{v_2} = \\begin{bmatrix} 1 \\\\ 0 \\\\ -1 \\\\ 0 \\end{bmatrix}$, $\\vec{v_3} = \\begin{bmatrix} 1 \\\\ 0 \\\\ 0 \\\\ -1 \\end{bmatrix}$, $\\vec{v_4} = \\begin{bmatrix} 0 \\\\ 1 \\\\ -1 \\\\ 0 \\end{bmatrix}$, $\\vec{v_5} = \\begin{bmatrix} 0 \\\\ 1 \\\\ 0 \\\\ -1 \\end{bmatrix}$, $\\vec{v_6} = \\begin{bmatrix} 0 \\\\ 0 \\\\ 1 \\\\ -1 \\end{bmatrix}$\n",
    "\n"
   ]
  },
  {
   "cell_type": "markdown",
   "metadata": {},
   "source": []
  },
  {
   "cell_type": "code",
   "execution_count": 4,
   "metadata": {},
   "outputs": [
    {
     "data": {
      "text/latex": [
       "$\\displaystyle 3$"
      ],
      "text/plain": [
       "3"
      ]
     },
     "execution_count": 4,
     "metadata": {},
     "output_type": "execute_result"
    }
   ],
   "source": [
    "# we stack the vectors in a matrix and we find the reduced row echelon form(rref) and the pivot columns\n",
    "\n",
    "v1 = Matrix([1, -1, 0, 0])\n",
    "v2 = Matrix([1, 0, -1, 0])\n",
    "v3 = Matrix([1, 0, 0, -1])\n",
    "v4 = Matrix([0, 1, -1, 0])\n",
    "v5 = Matrix([0, 1, 0, -1])\n",
    "v6 = Matrix([0, 0, 1, -1])\n",
    "\n",
    "rref, pivot_column = A.hstack(v1, v2, v3, v4, v5, v6).rref()\n",
    "\n",
    "len(pivot_column)\n",
    "# we can see that the matrix has 3 pivot columns the 3 pivot columns are the largest number independent columns"
   ]
  },
  {
   "cell_type": "markdown",
   "metadata": {},
   "source": [
    "#### Solution \n",
    "We use sympy as above to find the pivot of the columns of the matrix $A$ formed by the vectors $\\vec{v_1}, \\vec{v_2}, \\vec{v_3}, \\vec{v_4}, \\vec{v_5}, \\vec{v_6}$ and we take the number of pivot columns as the number of independent vectors. Which is 3"
   ]
  },
  {
   "cell_type": "markdown",
   "metadata": {},
   "source": [
    "### 3. Prove that if $ a = 0 $ or $ d = 0 $ or $ f = 0 $ , the columns of the matrix $U$ are linearly dependent\n",
    "\n",
    "$ U = \\begin{bmatrix} a & b & c \\\\ 0 & d & e \\\\ 0 & 0 & f \\end{bmatrix} $\n",
    "\n",
    "#### Solution\n",
    "\n",
    "* if $ a = 0 $, then the first column is a zero vector and the columns are linearly dependent, the matrix would be $ U = \\begin{bmatrix} 0 & b & c \\\\ 0 & d & e \\\\ 0 & 0 & f \\end{bmatrix} $ and the second and third columns can be written as a linear combination of the first column by using second - third with f = 0\n",
    "* if $ d = 0 $, then the matrix U would be $ U = \\begin{bmatrix} a & b & c \\\\ 0 & 0 & e \\\\ 0 & 0 & f \\end{bmatrix} $ and  then we only have 2 pivots in 3 x 3 matrix  r = 2 and r < n , thus we can have infinite solutions and the columns are linearly dependent\n",
    "* if $ f = 0 $, then the matrix U would be $ U = \\begin{bmatrix} a & b & c \\\\ 0 & d & e \\\\ 0 & 0 & 0 \\end{bmatrix} $ and  then we only have 2 pivots in 3 x 3 matrix thus the columns are linearly dependent\n",
    "\n",
    "See below solution using sympy\n"
   ]
  },
  {
   "cell_type": "code",
   "execution_count": 9,
   "metadata": {},
   "outputs": [
    {
     "data": {
      "text/latex": [
       "$\\displaystyle \\left[\\begin{matrix}a & b & c\\\\0 & d & e\\\\0 & 0 & f\\end{matrix}\\right]$"
      ],
      "text/plain": [
       "⎡a  b  c⎤\n",
       "⎢       ⎥\n",
       "⎢0  d  e⎥\n",
       "⎢       ⎥\n",
       "⎣0  0  f⎦"
      ]
     },
     "execution_count": 9,
     "metadata": {},
     "output_type": "execute_result"
    }
   ],
   "source": [
    "a = symbols('a')\n",
    "b = symbols('b')\n",
    "c = symbols('c')\n",
    "d = symbols('d')\n",
    "e = symbols('e')\n",
    "f = symbols('f')\n",
    "\n",
    "U = Matrix([[a, b, c], [0, d, e], [0, 0, f]])\n",
    "U"
   ]
  },
  {
   "cell_type": "code",
   "execution_count": 11,
   "metadata": {},
   "outputs": [
    {
     "data": {
      "text/latex": [
       "$\\displaystyle \\left[ \\left[\\begin{matrix}1\\\\0\\\\0\\end{matrix}\\right]\\right]$"
      ],
      "text/plain": [
       "⎡⎡1⎤⎤\n",
       "⎢⎢ ⎥⎥\n",
       "⎢⎢0⎥⎥\n",
       "⎢⎢ ⎥⎥\n",
       "⎣⎣0⎦⎦"
      ]
     },
     "execution_count": 11,
     "metadata": {},
     "output_type": "execute_result"
    }
   ],
   "source": [
    "U = Matrix([[0, b, c], [0, d, e], [0, 0, f]])\n",
    "U.nullspace()\n",
    "# the nullspace is not the zero vector so the columns are linearly dependent"
   ]
  },
  {
   "cell_type": "code",
   "execution_count": 8,
   "metadata": {},
   "outputs": [
    {
     "data": {
      "text/latex": [
       "$\\displaystyle \\left[ \\left[\\begin{matrix}- \\frac{b}{a}\\\\1\\\\0\\end{matrix}\\right]\\right]$"
      ],
      "text/plain": [
       "⎡⎡-b ⎤⎤\n",
       "⎢⎢───⎥⎥\n",
       "⎢⎢ a ⎥⎥\n",
       "⎢⎢   ⎥⎥\n",
       "⎢⎢ 1 ⎥⎥\n",
       "⎢⎢   ⎥⎥\n",
       "⎣⎣ 0 ⎦⎦"
      ]
     },
     "execution_count": 8,
     "metadata": {},
     "output_type": "execute_result"
    }
   ],
   "source": [
    "U = Matrix([[a, b, c], [0, 0, e], [0, 0, f]])\n",
    "U.nullspace()\n",
    "# the nullspace is the zero vector so the columns are linearly independent"
   ]
  },
  {
   "cell_type": "code",
   "execution_count": 13,
   "metadata": {},
   "outputs": [
    {
     "data": {
      "text/latex": [
       "$\\displaystyle \\left[ \\left[\\begin{matrix}\\frac{b e}{a d} - \\frac{c}{a}\\\\- \\frac{e}{d}\\\\1\\end{matrix}\\right]\\right]$"
      ],
      "text/plain": [
       "⎡⎡b⋅e   c⎤⎤\n",
       "⎢⎢─── - ─⎥⎥\n",
       "⎢⎢a⋅d   a⎥⎥\n",
       "⎢⎢       ⎥⎥\n",
       "⎢⎢  -e   ⎥⎥\n",
       "⎢⎢  ───  ⎥⎥\n",
       "⎢⎢   d   ⎥⎥\n",
       "⎢⎢       ⎥⎥\n",
       "⎣⎣   1   ⎦⎦"
      ]
     },
     "execution_count": 13,
     "metadata": {},
     "output_type": "execute_result"
    }
   ],
   "source": [
    "U = Matrix([[a, b, c], [0, d, e], [0, 0, 0]])\n",
    "U.nullspace()\n",
    "# the nullspace is the zero vector so the columns are linearly independent"
   ]
  },
  {
   "cell_type": "markdown",
   "metadata": {},
   "source": [
    "### 4. if $a$ , $d$, and $f$ in Q3 are not zero, show that the only solution to $Ux = 0$ is $x = 0$\n",
    "the matrix is full rank and the only solution is the zero vector\n"
   ]
  },
  {
   "cell_type": "code",
   "execution_count": 18,
   "metadata": {},
   "outputs": [
    {
     "data": {
      "text/latex": [
       "$\\displaystyle \\left[ \\right]$"
      ],
      "text/plain": [
       "[]"
      ]
     },
     "execution_count": 18,
     "metadata": {},
     "output_type": "execute_result"
    }
   ],
   "source": [
    "U = Matrix([[a, b, c], [0, d, e], [0, 0, f]])\n",
    "s = U.nullspace()\n",
    "s\n",
    "# nullspace is the zero vector so the columns are linearly independent"
   ]
  },
  {
   "cell_type": "markdown",
   "metadata": {},
   "source": [
    "### 5. Decide the depedence or independence of \n",
    "vectors $\\vec{v_1} = \\begin{bmatrix} 1 \\\\ 3 \\\\ 2 \\end{bmatrix}$, $\\vec{v_2} = \\begin{bmatrix} 2 \\\\ 1 \\\\ 3 \\end{bmatrix}$,  $\\vec{v_3} = \\begin{bmatrix} 3 \\\\ 2 \\\\ 1 \\end{bmatrix}$\n",
    "#### Solution\n",
    "We can use sympy to find the pivot of the columns of the matrix $A$ formed by the vectors $\\vec{v_1}, \\vec{v_2}, \\vec{v_3}$"
   ]
  },
  {
   "cell_type": "code",
   "execution_count": null,
   "metadata": {},
   "outputs": [],
   "source": [
    "A = Matrix([[1, 2, 3], [4, 5, 6], [7, 8, 9]])"
   ]
  },
  {
   "cell_type": "markdown",
   "metadata": {},
   "source": []
  }
 ],
 "metadata": {
  "kernelspec": {
   "display_name": "base",
   "language": "python",
   "name": "python3"
  },
  "language_info": {
   "codemirror_mode": {
    "name": "ipython",
    "version": 3
   },
   "file_extension": ".py",
   "mimetype": "text/x-python",
   "name": "python",
   "nbconvert_exporter": "python",
   "pygments_lexer": "ipython3",
   "version": "3.12.3"
  }
 },
 "nbformat": 4,
 "nbformat_minor": 2
}
