{
 "cells": [
  {
   "cell_type": "markdown",
   "metadata": {},
   "source": [
    "# Problem Set 3.4 \n",
    "\n",
    "## Questions 1-10 are about linear independence and Linear Dependence"
   ]
  },
  {
   "cell_type": "markdown",
   "metadata": {},
   "source": [
    "### 1. Show that $\\vec{v_1}, \\vec{v_2}, \\vec{v_3}$ are independent but $\\vec{v_1}, \\vec{v_2}, \\vec{v_3}, \\vec{v_4}$ are dependent\n"
   ]
  },
  {
   "cell_type": "code",
   "execution_count": 14,
   "metadata": {},
   "outputs": [
    {
     "data": {
      "text/latex": [
       "$\\displaystyle \\left( \\left[\\begin{matrix}1 & 0 & 0\\\\0 & 1 & 0\\\\0 & 0 & 1\\end{matrix}\\right], \\  \\left( 0, \\  1, \\  2\\right)\\right)$"
      ],
      "text/plain": [
       "⎛⎡1  0  0⎤           ⎞\n",
       "⎜⎢       ⎥           ⎟\n",
       "⎜⎢0  1  0⎥, (0, 1, 2)⎟\n",
       "⎜⎢       ⎥           ⎟\n",
       "⎝⎣0  0  1⎦           ⎠"
      ]
     },
     "execution_count": 14,
     "metadata": {},
     "output_type": "execute_result"
    }
   ],
   "source": [
    "from sympy import *\n",
    "\n",
    "## GIVEN \n",
    "v1 = Matrix([1, 0 , 0]); v2 = Matrix([1, 1, 0]); v3 = Matrix([1,1,1]); v4=Matrix([2,3,4]) \n",
    "init_printing(use_unicode=True)\n",
    "\n",
    "\n",
    "\n",
    "\n",
    "A = v1.row_join(v2).row_join(v3)\n",
    "A.nullspace()\n",
    "\n",
    "# print [] the nullspace is empty for the matrix \n",
    "\n",
    "# another mehtod we can do reduced row echelon\n",
    "\n",
    "A.rref() \n",
    "# answer is show below an invertible matrix , invertible matrices have by definition a nullspace with the only solution is the zero vector"
   ]
  },
  {
   "cell_type": "code",
   "execution_count": 15,
   "metadata": {},
   "outputs": [
    {
     "data": {
      "text/latex": [
       "$\\displaystyle \\left( \\left[\\begin{matrix}1 & 0 & 0 & -1\\\\0 & 1 & 0 & -1\\\\0 & 0 & 1 & 4\\end{matrix}\\right], \\  \\left( 0, \\  1, \\  2\\right)\\right)$"
      ],
      "text/plain": [
       "⎛⎡1  0  0  -1⎤           ⎞\n",
       "⎜⎢           ⎥           ⎟\n",
       "⎜⎢0  1  0  -1⎥, (0, 1, 2)⎟\n",
       "⎜⎢           ⎥           ⎟\n",
       "⎝⎣0  0  1  4 ⎦           ⎠"
      ]
     },
     "execution_count": 15,
     "metadata": {},
     "output_type": "execute_result"
    }
   ],
   "source": [
    "# now we add the fourth vector and we show that the matrix has non pivot columns which means the columns are linearly dependent\n",
    "A.row_join(v4).rref()\n"
   ]
  },
  {
   "cell_type": "code",
   "execution_count": 16,
   "metadata": {},
   "outputs": [
    {
     "data": {
      "text/latex": [
       "$\\displaystyle \\left[ \\left[\\begin{matrix}1\\\\1\\\\-4\\\\1\\end{matrix}\\right]\\right]$"
      ],
      "text/plain": [
       "⎡⎡1 ⎤⎤\n",
       "⎢⎢  ⎥⎥\n",
       "⎢⎢1 ⎥⎥\n",
       "⎢⎢  ⎥⎥\n",
       "⎢⎢-4⎥⎥\n",
       "⎢⎢  ⎥⎥\n",
       "⎣⎣1 ⎦⎦"
      ]
     },
     "execution_count": 16,
     "metadata": {},
     "output_type": "execute_result"
    }
   ],
   "source": [
    "# and if we take the nullspace it will give us a solution which is not the zero vector\n",
    "(A.row_join(v4)).nullspace()"
   ]
  },
  {
   "cell_type": "markdown",
   "metadata": {},
   "source": [
    "### 2. Find the largest number of vectors that can be independent in $\\mathbb{R}^4$\n",
    "#### with vectors $\\vec{v_1} = \\begin{bmatrix} 1 \\\\ -1 \\\\ 0 \\\\ 0 \\end{bmatrix}$, $\\vec{v_2} = \\begin{bmatrix} 1 \\\\ 0 \\\\ -1 \\\\ 0 \\end{bmatrix}$, $\\vec{v_3} = \\begin{bmatrix} 1 \\\\ 0 \\\\ 0 \\\\ -1 \\end{bmatrix}$, $\\vec{v_4} = \\begin{bmatrix} 0 \\\\ 1 \\\\ -1 \\\\ 0 \\end{bmatrix}$, $\\vec{v_5} = \\begin{bmatrix} 0 \\\\ 1 \\\\ 0 \\\\ -1 \\end{bmatrix}$, $\\vec{v_6} = \\begin{bmatrix} 0 \\\\ 0 \\\\ 1 \\\\ -1 \\end{bmatrix}$\n",
    "\n"
   ]
  },
  {
   "cell_type": "markdown",
   "metadata": {},
   "source": []
  },
  {
   "cell_type": "code",
   "execution_count": 17,
   "metadata": {},
   "outputs": [
    {
     "data": {
      "image/png": "[encoded data removed]",
      "text/latex": [
       "$\\displaystyle 3$"
      ],
      "text/plain": [
       "3"
      ]
     },
     "execution_count": 17,
     "metadata": {},
     "output_type": "execute_result"
    }
   ],
   "source": [
    "# we stack the vectors in a matrix and we do the rref\n",
    "# we can see that the matrix has 3 pivot columns the 3 pivot columns are the independent columns\n",
    "v1 = Matrix([1, -1, 0, 0])\n",
    "v2 = Matrix([1, 0, -1, 0])\n",
    "v3 = Matrix([1, 0, 0, -1])\n",
    "v4 = Matrix([0, 1, -1, 0])\n",
    "v5 = Matrix([0, 1, 0, -1])\n",
    "v6 = Matrix([0, 0, 1, -1])\n",
    "\n",
    "rref, pivot_column = A.hstack(v1, v2, v3, v4, v5, v6).rref()\n",
    "\n",
    "len(pivot_column)"
   ]
  },
  {
   "cell_type": "markdown",
   "metadata": {},
   "source": [
    "#### Solution \n",
    "We use sympy as above to find the pivot of the columns of the matrix $A$ formed by the vectors $\\vec{v_1}, \\vec{v_2}, \\vec{v_3}, \\vec{v_4}, \\vec{v_5}, \\vec{v_6}$ and we take the number of pivot columns as the number of independent vectors. Which is 3"
   ]
  },
  {
   "cell_type": "markdown",
   "metadata": {},
   "source": []
  }
 ],
 "metadata": {
  "kernelspec": {
   "display_name": "base",
   "language": "python",
   "name": "python3"
  },
  "language_info": {
   "codemirror_mode": {
    "name": "ipython",
    "version": 3
   },
   "file_extension": ".py",
   "mimetype": "text/x-python",
   "name": "python",
   "nbconvert_exporter": "python",
   "pygments_lexer": "ipython3",
   "version": "3.12.3"
  }
 },
 "nbformat": 4,
 "nbformat_minor": 2
}
