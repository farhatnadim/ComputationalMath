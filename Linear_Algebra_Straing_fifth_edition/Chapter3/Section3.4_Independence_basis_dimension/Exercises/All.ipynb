{
 "cells": [
  {
   "cell_type": "markdown",
   "metadata": {},
   "source": [
    "# Problem Set 3.4 \n",
    "\n",
    "## Questions 1-10 are about linear independence and Linear Dependence"
   ]
  },
  {
   "cell_type": "markdown",
   "metadata": {},
   "source": [
    "### .1 Show that $\\vec{v_1}, \\vec{v_2}, \\vec{v_3}$ are independent but $\\vec{v_1}, \\vec{v_2}, \\vec{v_3}, \\vec{v_4}$ are dependent\n"
   ]
  },
  {
   "cell_type": "code",
   "execution_count": 14,
   "metadata": {},
   "outputs": [
    {
     "data": {
      "text/latex": [
       "$\\displaystyle \\left( \\left[\\begin{matrix}1 & 0 & 0\\\\0 & 1 & 0\\\\0 & 0 & 1\\end{matrix}\\right], \\  \\left( 0, \\  1, \\  2\\right)\\right)$"
      ],
      "text/plain": [
       "⎛⎡1  0  0⎤           ⎞\n",
       "⎜⎢       ⎥           ⎟\n",
       "⎜⎢0  1  0⎥, (0, 1, 2)⎟\n",
       "⎜⎢       ⎥           ⎟\n",
       "⎝⎣0  0  1⎦           ⎠"
      ]
     },
     "execution_count": 14,
     "metadata": {},
     "output_type": "execute_result"
    }
   ],
   "source": [
    "from sympy import *\n",
    "\n",
    "## GIVEN \n",
    "v1 = Matrix([1, 0 , 0]); v2 = Matrix([1, 1, 0]); v3 = Matrix([1,1,1]); v4=Matrix([2,3,4]) \n",
    "init_printing(use_unicode=True)\n",
    "\n",
    "\n",
    "## SOLUTION \n",
    "# first we can concatinate the first three vectors in a matrix and we have to prove either that the nullspace has only one solution which 0,0,0 \n",
    "# or the matrix is non-singular\n",
    "\n",
    "A = v1.row_join(v2).row_join(v3)\n",
    "A.nullspace()\n",
    "\n",
    "# print [] the nullspace is empty for the matrix \n",
    "\n",
    "# another mehtod we can do reduced row echelon\n",
    "\n",
    "A.rref() \n",
    "# answer is show below an invertible matrix , invertible matrices have by definition a nullspace with the only solution is the zero vector"
   ]
  },
  {
   "cell_type": "code",
   "execution_count": null,
   "metadata": {},
   "outputs": [],
   "source": []
  }
 ],
 "metadata": {
  "kernelspec": {
   "display_name": "base",
   "language": "python",
   "name": "python3"
  },
  "language_info": {
   "codemirror_mode": {
    "name": "ipython",
    "version": 3
   },
   "file_extension": ".py",
   "mimetype": "text/x-python",
   "name": "python",
   "nbconvert_exporter": "python",
   "pygments_lexer": "ipython3",
   "version": "3.12.6"
  }
 },
 "nbformat": 4,
 "nbformat_minor": 2
}
